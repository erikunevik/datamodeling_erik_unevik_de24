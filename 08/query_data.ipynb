{
 "cells": [
  {
   "cell_type": "code",
   "execution_count": 20,
   "metadata": {},
   "outputs": [
    {
     "data": {
      "text/plain": [
       "Collection(Database(MongoClient(host=['localhost:27017'], document_class=dict, tz_aware=False, connect=True, authsource='admin'), 'linkedin'), 'profile')"
      ]
     },
     "execution_count": 20,
     "metadata": {},
     "output_type": "execute_result"
    }
   ],
   "source": [
    "# !pip install pymongo\n",
    "# !pip install python-dotenv\n",
    "from connect_mongodb import get_collection\n",
    "\n",
    "profiles = get_collection(\"linkedin\", collection=\"profile\")\n",
    "profiles"
   ]
  },
  {
   "cell_type": "code",
   "execution_count": 28,
   "metadata": {},
   "outputs": [
    {
     "data": {
      "text/plain": [
       "{'_id': ObjectId('67e1059fa154715d36579bdd'),\n",
       " 'user_id': 42147,\n",
       " 'first_name': 'Alice',\n",
       " 'last_name': 'Smith',\n",
       " 'about': 'AI enthusiast with a strong background in operations and a drive to integrate smart systems into everyday business.',\n",
       " 'photo_url': 'https://example.com/photos/alicesmith',\n",
       " 'experience': [{'title': 'Operations Analyst',\n",
       "   'organization': 'SmartOps LLC',\n",
       "   'start_date': '2020-03',\n",
       "   'end_date': 'present',\n",
       "   'description': 'Utilizes data analytics and AI to optimize operational workflows and reduce inefficiencies.'},\n",
       "  {'title': 'Research Assistant in Machine Learning',\n",
       "   'organization': 'Tech University Lab',\n",
       "   'start_date': '2019-01',\n",
       "   'end_date': '2020-02',\n",
       "   'description': 'Supported research projects on predictive modeling and anomaly detection.'}],\n",
       " 'education': [{'degree': 'B.Sc. in Industrial Engineering',\n",
       "   'institution': 'Tech University',\n",
       "   'start_date': '2015-09',\n",
       "   'end_date': '2019-06',\n",
       "   'description': 'Studied process optimization, statistics, and the integration of technology in manufacturing.'},\n",
       "  {'degree': 'Certification in Machine Learning',\n",
       "   'institution': 'Online Bootcamp',\n",
       "   'start_date': '2020-07',\n",
       "   'end_date': '2020-12',\n",
       "   'description': 'Intensive course covering the basics of machine learning, Python programming, and model deployment.'}]}"
      ]
     },
     "execution_count": 28,
     "metadata": {},
     "output_type": "execute_result"
    }
   ],
   "source": [
    "profiles.find_one({\"first_name\":\"Alice\"})"
   ]
  },
  {
   "cell_type": "code",
   "execution_count": null,
   "metadata": {},
   "outputs": [],
   "source": []
  },
  {
   "cell_type": "code",
   "execution_count": 27,
   "metadata": {},
   "outputs": [
    {
     "data": {
      "text/plain": [
       "('Alice', 'Operations Analyst')"
      ]
     },
     "execution_count": 27,
     "metadata": {},
     "output_type": "execute_result"
    }
   ],
   "source": [
    "profiles_maria = [profile for profile in profiles.find({\"first_name\": \"Alice\"})]\n",
    "profiles_maria[0][\"first_name\"], profiles_maria[0][\"experience\"][0][\"title\"]"
   ]
  },
  {
   "cell_type": "code",
   "execution_count": 19,
   "metadata": {},
   "outputs": [
    {
     "data": {
      "text/plain": [
       "('Maria', 'Data Analyst')"
      ]
     },
     "execution_count": 19,
     "metadata": {},
     "output_type": "execute_result"
    }
   ],
   "source": [
    "profiles_maria[1][\"first_name\"], profiles_maria[1][\"experience\"][0][\"title\"]"
   ]
  }
 ],
 "metadata": {
  "kernelspec": {
   "display_name": "Python 3",
   "language": "python",
   "name": "python3"
  },
  "language_info": {
   "codemirror_mode": {
    "name": "ipython",
    "version": 3
   },
   "file_extension": ".py",
   "mimetype": "text/x-python",
   "name": "python",
   "nbconvert_exporter": "python",
   "pygments_lexer": "ipython3",
   "version": "3.12.8"
  }
 },
 "nbformat": 4,
 "nbformat_minor": 2
}
